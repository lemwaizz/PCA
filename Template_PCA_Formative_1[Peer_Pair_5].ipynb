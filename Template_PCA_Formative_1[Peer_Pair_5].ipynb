{
  "cells": [
    {
      "cell_type": "markdown",
      "metadata": {
        "id": "view-in-github",
        "colab_type": "text"
      },
      "source": [
        "<a href=\"https://colab.research.google.com/github/lemwaizz/PCA/blob/main/Template_PCA_Formative_1%5BPeer_Pair_5%5D.ipynb\" target=\"_parent\"><img src=\"https://colab.research.google.com/assets/colab-badge.svg\" alt=\"Open In Colab\"/></a>"
      ]
    },
    {
      "cell_type": "markdown",
      "metadata": {
        "id": "SbyAup8vvizW"
      },
      "source": [
        "# Formative Assignment: Advanced Linear Algebra (PCA)\n",
        "This notebook will guide you through the implementation of Principal Component Analysis (PCA). Fill in the missing code and provide the required answers in the appropriate sections. You will work with the `fuel_econ.csv` dataset.\n",
        "\n",
        "Make sure to display outputs for each code cell when submitting."
      ]
    },
    {
      "cell_type": "markdown",
      "metadata": {
        "id": "Qgzkon8zvizY"
      },
      "source": [
        "### Step 1: Load and Standardize the Data\n",
        "Before applying PCA, we must standardize the dataset. Standardization ensures that all features have a mean of 0 and a standard deviation of 1, which is essential for PCA.\n",
        "Fill in the code to standardize the dataset."
      ]
    },
    {
      "cell_type": "code",
      "execution_count": 10,
      "metadata": {
        "colab": {
          "base_uri": "https://localhost:8080/"
        },
        "id": "TM6VBfNDvizZ",
        "outputId": "7f0ca128-f6c3-434c-f6cd-1157f8ea7d08"
      },
      "outputs": [
        {
          "output_type": "stream",
          "name": "stdout",
          "text": [
            "         id        make           model      year           VClass  \\\n",
            "0 -1.737140      Nissan            GT-R -1.475835  Subcompact Cars   \n",
            "1 -1.736684  Volkswagen              CC -1.475835     Compact Cars   \n",
            "2 -1.736227  Volkswagen              CC -1.475835     Compact Cars   \n",
            "3 -1.735770  Volkswagen      CC 4motion -1.475835     Compact Cars   \n",
            "4 -1.735313   Chevrolet  Malibu eAssist -1.475835     Midsize Cars   \n",
            "\n",
            "               drive              trans          fuelType  cylinders  \\\n",
            "0    All-Wheel Drive    Automatic (AM6)  Premium Gasoline   0.283102   \n",
            "1  Front-Wheel Drive  Automatic (AM-S6)  Premium Gasoline  -0.781816   \n",
            "2  Front-Wheel Drive     Automatic (S6)  Premium Gasoline   0.283102   \n",
            "3    All-Wheel Drive     Automatic (S6)  Premium Gasoline   0.283102   \n",
            "4  Front-Wheel Drive     Automatic (S6)  Regular Gasoline  -0.781816   \n",
            "\n",
            "      displ       pv2       pv4      city     UCity   highway  UHighway  \\\n",
            "0  0.650536  1.467096 -1.217378 -0.859960 -0.852430 -1.290630 -1.392475   \n",
            "1 -0.727998  1.864762 -1.217378  0.006427 -0.117434  0.184947 -0.039200   \n",
            "2  0.497365  1.864762 -1.217378 -0.694416 -0.753245 -0.592020 -0.851750   \n",
            "3  0.497365  1.864762 -1.217378 -0.782800 -0.830286 -0.827384 -1.027588   \n",
            "4 -0.421657 -0.627278  0.734890  0.471083  0.433147  0.967516  0.992531   \n",
            "\n",
            "       comb       co2   feScore  ghgScore  \n",
            "0 -1.008323  1.022838 -0.950580 -0.945755  \n",
            "1  0.071864 -0.298550  0.188608  0.194258  \n",
            "2 -0.686339  0.567934 -0.380986 -0.375749  \n",
            "3 -0.818651  0.752062 -0.380986 -0.375749  \n",
            "4  0.648059 -0.720961  1.327796  1.334271  \n"
          ]
        }
      ],
      "source": [
        "# Step 1: Load and Standardize the data (use of numpy only allowed)\n",
        "\n",
        "import numpy as np\n",
        "import pandas as pd\n",
        "\n",
        "#Load the data\n",
        "data = pd.read_csv(\"fuel_econ.csv\")\n",
        "\n",
        "#selct only numerical features for standardization\n",
        "numerical_features = data.select_dtypes(include = np.number).columns\n",
        "numerical_data = data[numerical_features].values\n",
        "\n",
        "#Calculate the mean and standard deviation\n",
        "mean = np.mean(numerical_data, axis=0)\n",
        "std_dev = np.std(numerical_data, axis=0)\n",
        "\n",
        "#Standardize the data\n",
        "standardized_numerical_data = (numerical_data - mean)/std_dev\n",
        "\n",
        "#Replacing with standardized values\n",
        "standardized_data = data.copy()\n",
        "standardized_data[numerical_features] = standardized_numerical_data\n",
        "print(standardized_data[:5])  # Display the first few rows of standardized data"
      ]
    },
    {
      "cell_type": "markdown",
      "metadata": {
        "id": "QhvYMLetviza"
      },
      "source": [
        "### Step 3: Calculate the Covariance Matrix\n",
        "The covariance matrix helps us understand how the features are related to each other. It is a key component in PCA."
      ]
    },
    {
      "cell_type": "code",
      "execution_count": null,
      "metadata": {
        "id": "Ek6mku8Hviza"
      },
      "outputs": [],
      "source": [
        "# Step 3: Calculate the Covariance Matrix\n",
        "cov_matrix = None  # Calculate covariance matrix\n",
        "cov_matrix"
      ]
    },
    {
      "cell_type": "markdown",
      "metadata": {
        "id": "Pj3p49Vdvizb"
      },
      "source": [
        "### Step 4: Perform Eigendecomposition\n",
        "Eigendecomposition of the covariance matrix will give us the eigenvalues and eigenvectors, which are essential for PCA.\n",
        "Fill in the code to compute the eigenvalues and eigenvectors of the covariance matrix."
      ]
    },
    {
      "cell_type": "code",
      "execution_count": null,
      "metadata": {
        "id": "8SmuoL5Lvizb"
      },
      "outputs": [],
      "source": [
        "# Step 4: Perform Eigendecomposition\n",
        "eigenvalues, eigenvectors = None  # Perform eigendecomposition\n",
        "eigenvalues, eigenvectors"
      ]
    },
    {
      "cell_type": "markdown",
      "metadata": {
        "id": "dKaR8In9vizb"
      },
      "source": [
        "### Step 5: Sort Principal Components\n",
        "Sort the eigenvectors based on their corresponding eigenvalues in descending order. The higher the eigenvalue, the more important the eigenvector.\n",
        "Complete the code to sort the eigenvectors and print the sorted components."
      ]
    },
    {
      "cell_type": "code",
      "execution_count": null,
      "metadata": {
        "id": "eF9KKv-7vizb"
      },
      "outputs": [],
      "source": [
        "# Step 5: Sort Principal Components\n",
        "sorted_indices = None  # Sort eigenvalues in descending order\n",
        "sorted_eigenvectors = None  # Sort eigenvectors accordingly\n",
        "sorted_eigenvectors"
      ]
    },
    {
      "cell_type": "markdown",
      "metadata": {
        "id": "nnt4eocFvizb"
      },
      "source": [
        "### Step 6: Project Data onto Principal Components\n",
        "Now that we’ve selected the number of components, we will project the original data onto the chosen principal components.\n",
        "Fill in the code to perform the projection."
      ]
    },
    {
      "cell_type": "code",
      "execution_count": null,
      "metadata": {
        "id": "nANFJgCQvizc"
      },
      "outputs": [],
      "source": [
        "# Step 6: Project Data onto Principal Components\n",
        "num_components = None  # Decide on the number of principal components to keep\n",
        "reduced_data = None  # Project data onto the principal components\n",
        "reduced_data[:5]"
      ]
    },
    {
      "cell_type": "markdown",
      "metadata": {
        "id": "Lhqp3abCvizc"
      },
      "source": [
        "### Step 7: Output the Reduced Data\n",
        "Finally, display the reduced data obtained by projecting the original dataset onto the selected principal components."
      ]
    },
    {
      "cell_type": "code",
      "execution_count": null,
      "metadata": {
        "id": "xvdcfUuHvizc"
      },
      "outputs": [],
      "source": [
        "# Step 7: Output the Reduced Data\n",
        "print(f'Reduced Data Shape: {reduced_data.shape}')  # Display reduced data shape\n",
        "reduced_data[:5]  # Display the first few rows of reduced data"
      ]
    },
    {
      "cell_type": "markdown",
      "metadata": {
        "id": "G5_ptyD6vizc"
      },
      "source": [
        "### Step 8: Visualize Before and After PCA\n",
        "Now, let's plot the original data and the data after PCA to compare the reduction in dimensions visually."
      ]
    },
    {
      "cell_type": "code",
      "execution_count": null,
      "metadata": {
        "id": "GMTY_PK6vizc"
      },
      "outputs": [],
      "source": [
        "# Step 8: Visualize Before and After PCA\n",
        "\n",
        "\n",
        "# Plot original data (first two features for simplicity)\n",
        "\n",
        "\n",
        "# Plot reduced data after PCA\n"
      ]
    }
  ],
  "metadata": {
    "kernelspec": {
      "display_name": "Python 3",
      "name": "python3"
    },
    "language_info": {
      "name": "python",
      "version": "3.8.8"
    },
    "colab": {
      "provenance": [],
      "include_colab_link": true
    }
  },
  "nbformat": 4,
  "nbformat_minor": 0
}